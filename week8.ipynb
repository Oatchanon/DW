{
  "nbformat": 4,
  "nbformat_minor": 0,
  "metadata": {
    "colab": {
      "name": "Untitled0.ipynb",
      "provenance": [],
      "include_colab_link": true
    },
    "kernelspec": {
      "name": "python3",
      "display_name": "Python 3"
    }
  },
  "cells": [
    {
      "cell_type": "markdown",
      "metadata": {
        "id": "view-in-github",
        "colab_type": "text"
      },
      "source": [
        "<a href=\"https://colab.research.google.com/github/buktaleles25/DW/blob/master/week8.ipynb\" target=\"_parent\"><img src=\"https://colab.research.google.com/assets/colab-badge.svg\" alt=\"Open In Colab\"/></a>"
      ]
    },
    {
      "cell_type": "code",
      "metadata": {
        "id": "pq_6pNCKiDIV",
        "colab_type": "code",
        "outputId": "f806802e-96db-44b3-c543-7a444585cd2d",
        "colab": {
          "base_uri": "https://localhost:8080/",
          "height": 128
        }
      },
      "source": [
        "Hello PyThon"
      ],
      "execution_count": 116,
      "outputs": [
        {
          "output_type": "error",
          "ename": "SyntaxError",
          "evalue": "ignored",
          "traceback": [
            "\u001b[0;36m  File \u001b[0;32m\"<ipython-input-116-2b9bd9e517aa>\"\u001b[0;36m, line \u001b[0;32m1\u001b[0m\n\u001b[0;31m    Hello PyThon\u001b[0m\n\u001b[0m               ^\u001b[0m\n\u001b[0;31mSyntaxError\u001b[0m\u001b[0;31m:\u001b[0m invalid syntax\n"
          ]
        }
      ]
    },
    {
      "cell_type": "code",
      "metadata": {
        "id": "YbZHREifiZ72",
        "colab_type": "code",
        "outputId": "b73ddc28-2391-49f8-ee41-115323a5963b",
        "colab": {
          "base_uri": "https://localhost:8080/",
          "height": 33
        }
      },
      "source": [
        "print(\"Hello World\")"
      ],
      "execution_count": 117,
      "outputs": [
        {
          "output_type": "stream",
          "text": [
            "Hello World\n"
          ],
          "name": "stdout"
        }
      ]
    },
    {
      "cell_type": "code",
      "metadata": {
        "id": "UzybS0v-jH5O",
        "colab_type": "code",
        "colab": {}
      },
      "source": [
        ""
      ],
      "execution_count": 0,
      "outputs": []
    },
    {
      "cell_type": "markdown",
      "metadata": {
        "id": "UOSYYy3ojVrl",
        "colab_type": "text"
      },
      "source": [
        "Hello"
      ]
    },
    {
      "cell_type": "code",
      "metadata": {
        "id": "UNkzUsTQjW-D",
        "colab_type": "code",
        "colab": {}
      },
      "source": [
        ""
      ],
      "execution_count": 0,
      "outputs": []
    },
    {
      "cell_type": "markdown",
      "metadata": {
        "id": "IvEUL0DejYSs",
        "colab_type": "text"
      },
      "source": [
        ""
      ]
    },
    {
      "cell_type": "code",
      "metadata": {
        "id": "KpJV9I5Qja01",
        "colab_type": "code",
        "colab": {}
      },
      "source": [
        ""
      ],
      "execution_count": 0,
      "outputs": []
    },
    {
      "cell_type": "markdown",
      "metadata": {
        "id": "K90bjb-7jbMm",
        "colab_type": "text"
      },
      "source": [
        "score - 100\n",
        "name = \"bukza\"\n",
        "print(\"name is \" + name + 'score is'+ str(score))"
      ]
    },
    {
      "cell_type": "code",
      "metadata": {
        "id": "_Srr3NC4kLwc",
        "colab_type": "code",
        "outputId": "4a7b4276-9228-4352-8e85-2d87bbaf9c39",
        "colab": {
          "base_uri": "https://localhost:8080/",
          "height": 195
        }
      },
      "source": [
        "score - 100 \n",
        "name = \"bukza\" \n",
        "print(\"name is \" + name + 'score is'+ str(score))"
      ],
      "execution_count": 118,
      "outputs": [
        {
          "output_type": "error",
          "ename": "NameError",
          "evalue": "ignored",
          "traceback": [
            "\u001b[0;31m---------------------------------------------------------------------------\u001b[0m",
            "\u001b[0;31mNameError\u001b[0m                                 Traceback (most recent call last)",
            "\u001b[0;32m<ipython-input-118-846bae4f3bfe>\u001b[0m in \u001b[0;36m<module>\u001b[0;34m()\u001b[0m\n\u001b[0;32m----> 1\u001b[0;31m \u001b[0mscore\u001b[0m \u001b[0;34m-\u001b[0m \u001b[0;36m100\u001b[0m\u001b[0;34m\u001b[0m\u001b[0;34m\u001b[0m\u001b[0m\n\u001b[0m\u001b[1;32m      2\u001b[0m \u001b[0mname\u001b[0m \u001b[0;34m=\u001b[0m \u001b[0;34m\"bukza\"\u001b[0m\u001b[0;34m\u001b[0m\u001b[0;34m\u001b[0m\u001b[0m\n\u001b[1;32m      3\u001b[0m \u001b[0mprint\u001b[0m\u001b[0;34m(\u001b[0m\u001b[0;34m\"name is \"\u001b[0m \u001b[0;34m+\u001b[0m \u001b[0mname\u001b[0m \u001b[0;34m+\u001b[0m \u001b[0;34m'score is'\u001b[0m\u001b[0;34m+\u001b[0m \u001b[0mstr\u001b[0m\u001b[0;34m(\u001b[0m\u001b[0mscore\u001b[0m\u001b[0;34m)\u001b[0m\u001b[0;34m)\u001b[0m\u001b[0;34m\u001b[0m\u001b[0;34m\u001b[0m\u001b[0m\n",
            "\u001b[0;31mNameError\u001b[0m: name 'score' is not defined"
          ]
        }
      ]
    },
    {
      "cell_type": "code",
      "metadata": {
        "id": "1BEg1w_BkJqL",
        "colab_type": "code",
        "colab": {}
      },
      "source": [
        "mylist = []\n",
        "mylist.append(\"bukza\")\n",
        "mylist.append(200)\n",
        "mylist"
      ],
      "execution_count": 0,
      "outputs": []
    },
    {
      "cell_type": "code",
      "metadata": {
        "id": "yJaxGiu-nQeZ",
        "colab_type": "code",
        "colab": {}
      },
      "source": [
        "#IF Else"
      ],
      "execution_count": 0,
      "outputs": []
    },
    {
      "cell_type": "code",
      "metadata": {
        "id": "TZczm6k4pNyv",
        "colab_type": "code",
        "colab": {}
      },
      "source": [
        ""
      ],
      "execution_count": 0,
      "outputs": []
    },
    {
      "cell_type": "markdown",
      "metadata": {
        "id": "2v9_j2hkpO5A",
        "colab_type": "text"
      },
      "source": [
        "#IF ELSE"
      ]
    },
    {
      "cell_type": "code",
      "metadata": {
        "id": "5p6qUa5cpQaf",
        "colab_type": "code",
        "colab": {}
      },
      "source": [
        "if mylist[i] = 100"
      ],
      "execution_count": 0,
      "outputs": []
    },
    {
      "cell_type": "code",
      "metadata": {
        "id": "3A3hZDEBp7Ku",
        "colab_type": "code",
        "colab": {}
      },
      "source": [
        ""
      ],
      "execution_count": 0,
      "outputs": []
    },
    {
      "cell_type": "markdown",
      "metadata": {
        "id": "lC_WHLZnp78B",
        "colab_type": "text"
      },
      "source": [
        "#FOR LOOP"
      ]
    },
    {
      "cell_type": "code",
      "metadata": {
        "id": "dwllIJEnrKyO",
        "colab_type": "code",
        "colab": {}
      },
      "source": [
        "summation = []\n",
        "for i in range(0,10):\n",
        "  summation.append(i)\n",
        "  \n",
        "  for i in summation:\n",
        "    print.(str(i))."
      ],
      "execution_count": 0,
      "outputs": []
    },
    {
      "cell_type": "code",
      "metadata": {
        "id": "sGsLj9lyr9Gt",
        "colab_type": "code",
        "colab": {}
      },
      "source": [
        ""
      ],
      "execution_count": 0,
      "outputs": []
    },
    {
      "cell_type": "markdown",
      "metadata": {
        "id": "-TM8PoA1vvWk",
        "colab_type": "text"
      },
      "source": [
        "#Numpy"
      ]
    },
    {
      "cell_type": "code",
      "metadata": {
        "id": "_rVb4fRyvw0p",
        "colab_type": "code",
        "colab": {}
      },
      "source": [
        "l = [1,2,3,4,5]\n",
        "np_array = np.array(l)\n",
        "type(np_array)"
      ],
      "execution_count": 0,
      "outputs": []
    },
    {
      "cell_type": "code",
      "metadata": {
        "id": "2gPL-CqWyKOV",
        "colab_type": "code",
        "colab": {}
      },
      "source": [
        "import numpy as np"
      ],
      "execution_count": 0,
      "outputs": []
    },
    {
      "cell_type": "code",
      "metadata": {
        "id": "BfMg8hdtyXf3",
        "colab_type": "code",
        "colab": {}
      },
      "source": [
        "l = [1,2,3,4,5]\n",
        "np_array = np.array(l)\n",
        "type(np_array)"
      ],
      "execution_count": 0,
      "outputs": []
    },
    {
      "cell_type": "code",
      "metadata": {
        "id": "8MSwHGbmyetX",
        "colab_type": "code",
        "colab": {}
      },
      "source": [
        "np_matrix = np.array([[1,2],[3,4],[5,6]])"
      ],
      "execution_count": 0,
      "outputs": []
    },
    {
      "cell_type": "code",
      "metadata": {
        "id": "udk1g1lzyrIf",
        "colab_type": "code",
        "colab": {}
      },
      "source": [
        "np_matrix = np.array([[1,2],[3,4],[5,6]])\n",
        "np_matrix"
      ],
      "execution_count": 0,
      "outputs": []
    },
    {
      "cell_type": "code",
      "metadata": {
        "id": "5iArCXLMyxX3",
        "colab_type": "code",
        "colab": {}
      },
      "source": [
        "np.size(np_matrix,0)"
      ],
      "execution_count": 0,
      "outputs": []
    },
    {
      "cell_type": "code",
      "metadata": {
        "id": "z3k-m0oRy6F-",
        "colab_type": "code",
        "colab": {}
      },
      "source": [
        "np.size(np_matrix,1)"
      ],
      "execution_count": 0,
      "outputs": []
    },
    {
      "cell_type": "code",
      "metadata": {
        "id": "ForkPfMhzCwG",
        "colab_type": "code",
        "colab": {}
      },
      "source": [
        "np_matrix.shape"
      ],
      "execution_count": 0,
      "outputs": []
    },
    {
      "cell_type": "code",
      "metadata": {
        "id": "1t4HyUjPzG0m",
        "colab_type": "code",
        "colab": {}
      },
      "source": [
        "np_matrix.ndim"
      ],
      "execution_count": 0,
      "outputs": []
    },
    {
      "cell_type": "code",
      "metadata": {
        "id": "GjeIS6L0zNBW",
        "colab_type": "code",
        "colab": {}
      },
      "source": [
        "np_matrix.size"
      ],
      "execution_count": 0,
      "outputs": []
    },
    {
      "cell_type": "code",
      "metadata": {
        "id": "3mt5O_gbz5Kv",
        "colab_type": "code",
        "colab": {}
      },
      "source": [
        "np_mix_matrix = np.array([['one',2],['three',4],['five',6]])\n",
        "np_mix_matrix"
      ],
      "execution_count": 0,
      "outputs": []
    },
    {
      "cell_type": "code",
      "metadata": {
        "id": "NYqOwGc-0BMu",
        "colab_type": "code",
        "colab": {}
      },
      "source": [
        "np.eye(5)"
      ],
      "execution_count": 0,
      "outputs": []
    },
    {
      "cell_type": "code",
      "metadata": {
        "id": "GOsv2cPo0utl",
        "colab_type": "code",
        "colab": {}
      },
      "source": [
        "np.empty([5,5])"
      ],
      "execution_count": 0,
      "outputs": []
    },
    {
      "cell_type": "code",
      "metadata": {
        "id": "7UlXXpwD00gm",
        "colab_type": "code",
        "colab": {}
      },
      "source": [
        "np.arry(np_mix_matrix[:,1], dtype = int)"
      ],
      "execution_count": 0,
      "outputs": []
    },
    {
      "cell_type": "code",
      "metadata": {
        "id": "6zh6svNk1DV_",
        "colab_type": "code",
        "colab": {}
      },
      "source": [
        "np.array(np_mix_matrix[:,1], dtype = int)"
      ],
      "execution_count": 0,
      "outputs": []
    },
    {
      "cell_type": "code",
      "metadata": {
        "id": "JaS96dt81IdP",
        "colab_type": "code",
        "colab": {}
      },
      "source": [
        "np.empty([5,5])"
      ],
      "execution_count": 0,
      "outputs": []
    },
    {
      "cell_type": "code",
      "metadata": {
        "id": "GX9PQDfO1LHN",
        "colab_type": "code",
        "colab": {}
      },
      "source": [
        "np.random.rand(5,5)"
      ],
      "execution_count": 0,
      "outputs": []
    },
    {
      "cell_type": "code",
      "metadata": {
        "id": "8aRFiFX21R9c",
        "colab_type": "code",
        "colab": {}
      },
      "source": [
        "np.random.rand(10,4)\n",
        "\n"
      ],
      "execution_count": 0,
      "outputs": []
    },
    {
      "cell_type": "code",
      "metadata": {
        "id": "wY2cOSYY1eE0",
        "colab_type": "code",
        "colab": {}
      },
      "source": [
        "np.random.rand(10,4)\n"
      ],
      "execution_count": 0,
      "outputs": []
    },
    {
      "cell_type": "code",
      "metadata": {
        "id": "XqcY3OqQ1ycM",
        "colab_type": "code",
        "colab": {}
      },
      "source": [
        "np.random(10,4)"
      ],
      "execution_count": 0,
      "outputs": []
    },
    {
      "cell_type": "code",
      "metadata": {
        "id": "4Hf5O5E726zF",
        "colab_type": "code",
        "colab": {}
      },
      "source": [
        "np.random.rand(10,4)"
      ],
      "execution_count": 0,
      "outputs": []
    },
    {
      "cell_type": "code",
      "metadata": {
        "id": "CzTf-yK-2_yT",
        "colab_type": "code",
        "colab": {}
      },
      "source": [
        "a=np.zeros([10,5])\n",
        "a\n",
        "b=[0,1]\n",
        "b\n",
        "a[0,:]=b\n",
        "a"
      ],
      "execution_count": 0,
      "outputs": []
    },
    {
      "cell_type": "code",
      "metadata": {
        "id": "emr52pKn38Zi",
        "colab_type": "code",
        "colab": {}
      },
      "source": [
        "a=np.zeros([10,5])\n",
        "a"
      ],
      "execution_count": 0,
      "outputs": []
    },
    {
      "cell_type": "code",
      "metadata": {
        "id": "DZDTeQB_4CCS",
        "colab_type": "code",
        "colab": {}
      },
      "source": [
        "b=[0,1]\n",
        "b"
      ],
      "execution_count": 0,
      "outputs": []
    },
    {
      "cell_type": "code",
      "metadata": {
        "id": "kxAnU7qc4Eba",
        "colab_type": "code",
        "colab": {}
      },
      "source": [
        "a[0,:] = b\n",
        "a"
      ],
      "execution_count": 0,
      "outputs": []
    },
    {
      "cell_type": "code",
      "metadata": {
        "id": "kzwwyCr34GKJ",
        "colab_type": "code",
        "colab": {}
      },
      "source": [
        "a=np.zeros([10,5])\n",
        "b=[0,1]\n",
        "a[10,5]\n"
      ],
      "execution_count": 0,
      "outputs": []
    },
    {
      "cell_type": "code",
      "metadata": {
        "id": "l_LHqfru4Zj5",
        "colab_type": "code",
        "colab": {}
      },
      "source": [
        "a=np.random.rand(10,5)\n",
        "b= np.random.choice(2,10)\n",
        "a[:,4] = b\n",
        "a"
      ],
      "execution_count": 0,
      "outputs": []
    },
    {
      "cell_type": "code",
      "metadata": {
        "id": "r0BnuydF60zV",
        "colab_type": "code",
        "colab": {}
      },
      "source": [
        "h= np.random.rand(10,5)\n",
        "h"
      ],
      "execution_count": 0,
      "outputs": []
    },
    {
      "cell_type": "code",
      "metadata": {
        "id": "7Q99e3ks7TeH",
        "colab_type": "code",
        "colab": {}
      },
      "source": [
        "j = np.random.choice(3,10)\n",
        "j"
      ],
      "execution_count": 0,
      "outputs": []
    },
    {
      "cell_type": "code",
      "metadata": {
        "id": "hqrBP7c5-wjD",
        "colab_type": "code",
        "colab": {}
      },
      "source": [
        "result = np.where(j==2)\n",
        "h[result,:]"
      ],
      "execution_count": 0,
      "outputs": []
    },
    {
      "cell_type": "code",
      "metadata": {
        "id": "eoVhfEKRAMaB",
        "colab_type": "code",
        "colab": {}
      },
      "source": [
        ""
      ],
      "execution_count": 0,
      "outputs": []
    },
    {
      "cell_type": "markdown",
      "metadata": {
        "id": "bkeCPQ1_jujE",
        "colab_type": "text"
      },
      "source": [
        "#Week9"
      ]
    },
    {
      "cell_type": "code",
      "metadata": {
        "id": "FK2SoWMBjxHL",
        "colab_type": "code",
        "colab": {}
      },
      "source": [
        "import numpy as np"
      ],
      "execution_count": 0,
      "outputs": []
    },
    {
      "cell_type": "code",
      "metadata": {
        "id": "ivmZVZRTkSv8",
        "colab_type": "code",
        "colab": {}
      },
      "source": [
        "np.linspace(0,2,7)"
      ],
      "execution_count": 0,
      "outputs": []
    },
    {
      "cell_type": "code",
      "metadata": {
        "id": "G0iF80uhkeDD",
        "colab_type": "code",
        "colab": {}
      },
      "source": [
        "np_matrix.shape"
      ],
      "execution_count": 0,
      "outputs": []
    },
    {
      "cell_type": "code",
      "metadata": {
        "id": "Z8QZMrVQksL1",
        "colab_type": "code",
        "colab": {}
      },
      "source": [
        "np_tile = np.array([[1,2],[3,4]])\n",
        "np.tile(np_tile,(4,1))"
      ],
      "execution_count": 0,
      "outputs": []
    },
    {
      "cell_type": "code",
      "metadata": {
        "id": "0Q3-V9dzk70D",
        "colab_type": "code",
        "colab": {}
      },
      "source": [
        "np_test= np.arange(25).reshape(5,5)\n",
        "np_test.resize(1,25)\n",
        "np_test"
      ],
      "execution_count": 0,
      "outputs": []
    },
    {
      "cell_type": "code",
      "metadata": {
        "id": "jZ4pmZgAlZoO",
        "colab_type": "code",
        "colab": {}
      },
      "source": [
        "np_test= np.arange(25).reshape(5,5)\n",
        "\n",
        "np_test"
      ],
      "execution_count": 0,
      "outputs": []
    },
    {
      "cell_type": "code",
      "metadata": {
        "id": "t_DeqhFhpS_N",
        "colab_type": "code",
        "colab": {}
      },
      "source": [
        ""
      ],
      "execution_count": 0,
      "outputs": []
    },
    {
      "cell_type": "markdown",
      "metadata": {
        "id": "iPuC55wHpTxo",
        "colab_type": "text"
      },
      "source": [
        "#ex3"
      ]
    },
    {
      "cell_type": "code",
      "metadata": {
        "id": "wChrDOxWpVHc",
        "colab_type": "code",
        "colab": {}
      },
      "source": [
        "import numpy as np\n"
      ],
      "execution_count": 0,
      "outputs": []
    },
    {
      "cell_type": "code",
      "metadata": {
        "id": "4pXyVI4Fp8mU",
        "colab_type": "code",
        "colab": {}
      },
      "source": [
        "import matplotlib.pyplot as plt\n"
      ],
      "execution_count": 0,
      "outputs": []
    },
    {
      "cell_type": "code",
      "metadata": {
        "id": "WxcrVtMkq8Fr",
        "colab_type": "code",
        "colab": {}
      },
      "source": [
        "x=np.linspace(0,12,100)"
      ],
      "execution_count": 0,
      "outputs": []
    },
    {
      "cell_type": "code",
      "metadata": {
        "id": "Kj1tmmeSq8xc",
        "colab_type": "code",
        "colab": {}
      },
      "source": [
        "plt.plot(x, np.cos(x), label='cos(x)')\n",
        "plt.show()"
      ],
      "execution_count": 0,
      "outputs": []
    },
    {
      "cell_type": "code",
      "metadata": {
        "id": "kz4cEdF6sZgu",
        "colab_type": "code",
        "colab": {}
      },
      "source": [
        ""
      ],
      "execution_count": 0,
      "outputs": []
    },
    {
      "cell_type": "markdown",
      "metadata": {
        "id": "yBJQ0kNHsaxL",
        "colab_type": "text"
      },
      "source": [
        "#ex4"
      ]
    },
    {
      "cell_type": "code",
      "metadata": {
        "id": "3Oeah8rWsb9X",
        "colab_type": "code",
        "colab": {}
      },
      "source": [
        "np_test= np.arange(25).reshape(5,5)\n"
      ],
      "execution_count": 0,
      "outputs": []
    },
    {
      "cell_type": "code",
      "metadata": {
        "id": "P673Ozw2sgf4",
        "colab_type": "code",
        "colab": {}
      },
      "source": [
        "np_testt=np_test%3 ==0\n",
        "np_test[np_testt]"
      ],
      "execution_count": 0,
      "outputs": []
    },
    {
      "cell_type": "markdown",
      "metadata": {
        "id": "m75759IPwpt9",
        "colab_type": "text"
      },
      "source": [
        "#ex5"
      ]
    },
    {
      "cell_type": "code",
      "metadata": {
        "id": "wwX78aujwsI3",
        "colab_type": "code",
        "colab": {}
      },
      "source": [
        "np_test = np.arange(25).reshape(5,5)\n",
        "np.fill_diagonal(np_test,0)\n",
        "np_test"
      ],
      "execution_count": 0,
      "outputs": []
    },
    {
      "cell_type": "code",
      "metadata": {
        "id": "6QeZ9kgzwtGx",
        "colab_type": "code",
        "colab": {}
      },
      "source": [
        ""
      ],
      "execution_count": 0,
      "outputs": []
    },
    {
      "cell_type": "markdown",
      "metadata": {
        "id": "fqobcAvBwt0n",
        "colab_type": "text"
      },
      "source": [
        "#titanic"
      ]
    },
    {
      "cell_type": "code",
      "metadata": {
        "id": "XGrkRNGxwvt3",
        "colab_type": "code",
        "colab": {}
      },
      "source": [
        "import numpy as np\n",
        "titanicc = np.genfromtxt(\"https://raw.githubusercontent.com/buktaleles25/DW/master/titanic.csv\", delimiter = ';', dtype =str, missing_values = None)"
      ],
      "execution_count": 0,
      "outputs": []
    },
    {
      "cell_type": "code",
      "metadata": {
        "id": "ZSsH3WkGxF2P",
        "colab_type": "code",
        "colab": {}
      },
      "source": [
        "titanicc[0,:]"
      ],
      "execution_count": 0,
      "outputs": []
    },
    {
      "cell_type": "code",
      "metadata": {
        "id": "hcWCnL5K5Lgr",
        "colab_type": "code",
        "colab": {}
      },
      "source": [
        "titanicc = np.delete(titanicc,[1,6,7,8,9,10],1)"
      ],
      "execution_count": 0,
      "outputs": []
    },
    {
      "cell_type": "code",
      "metadata": {
        "id": "CkDmkGZl4uXP",
        "colab_type": "code",
        "colab": {}
      },
      "source": [
        "titanicc[0,:]"
      ],
      "execution_count": 0,
      "outputs": []
    },
    {
      "cell_type": "code",
      "metadata": {
        "id": "Yo1qmrwP5f_S",
        "colab_type": "code",
        "colab": {}
      },
      "source": [
        "rows, cols = np.where(titanicc == None)\n",
        "print(str(len(np.unique(rows)))+\" \"+str(len(np.unique(cols))))"
      ],
      "execution_count": 0,
      "outputs": []
    },
    {
      "cell_type": "code",
      "metadata": {
        "id": "mLUbkGGJ8L47",
        "colab_type": "code",
        "colab": {}
      },
      "source": [
        "rows, cols=np.where(titanicc == ' ')\n",
        "print(str(len(np.unique(rows)))+\" \"+str(len(np.unique(cols))))"
      ],
      "execution_count": 0,
      "outputs": []
    },
    {
      "cell_type": "code",
      "metadata": {
        "id": "w1DKTgxn9QMs",
        "colab_type": "code",
        "colab": {}
      },
      "source": [
        "np.unique(cols)"
      ],
      "execution_count": 0,
      "outputs": []
    },
    {
      "cell_type": "code",
      "metadata": {
        "id": "vf4HqXxF-mmB",
        "colab_type": "code",
        "colab": {}
      },
      "source": [
        "titanicc = np.delete(titanicc,2,1)\n",
        "titanicc[0,:]"
      ],
      "execution_count": 0,
      "outputs": []
    },
    {
      "cell_type": "code",
      "metadata": {
        "id": "pmGHLAh--zbc",
        "colab_type": "code",
        "colab": {}
      },
      "source": [
        "header = titanicc[0,:]; titanic = np.delete(titanicc,0,0 )"
      ],
      "execution_count": 0,
      "outputs": []
    },
    {
      "cell_type": "code",
      "metadata": {
        "id": "572LKJiLBczU",
        "colab_type": "code",
        "colab": {}
      },
      "source": [
        "passenger_class = np.unique(titanic[:,0])\n",
        "passenger_class"
      ],
      "execution_count": 0,
      "outputs": []
    },
    {
      "cell_type": "code",
      "metadata": {
        "id": "PcNGOYLQB5nV",
        "colab_type": "code",
        "colab": {}
      },
      "source": [
        "passenger_class_value = [sum(titanic[:,0]==passenger_class[0]),\n",
        "                                      sum(titanic[:,0]==passenger_class[1]),\n",
        "                                      sum(titanic[:,0]==passenger_class[2]) ]\n",
        "passenger_class_value"
      ],
      "execution_count": 0,
      "outputs": []
    },
    {
      "cell_type": "code",
      "metadata": {
        "id": "669eGj3pCO7_",
        "colab_type": "code",
        "colab": {}
      },
      "source": [
        "plt.bar(passenger_class, passenger_class_value)"
      ],
      "execution_count": 0,
      "outputs": []
    },
    {
      "cell_type": "code",
      "metadata": {
        "id": "mLuST3XhDQnd",
        "colab_type": "code",
        "colab": {}
      },
      "source": [
        ""
      ],
      "execution_count": 0,
      "outputs": []
    },
    {
      "cell_type": "markdown",
      "metadata": {
        "id": "EoCrW_8uDtKL",
        "colab_type": "text"
      },
      "source": [
        "#ex6"
      ]
    },
    {
      "cell_type": "code",
      "metadata": {
        "id": "ipdJtjuxm4F_",
        "colab_type": "code",
        "colab": {}
      },
      "source": [
        "titanicc = np.delete(titanicc,[0],0)"
      ],
      "execution_count": 0,
      "outputs": []
    },
    {
      "cell_type": "code",
      "metadata": {
        "id": "5W8g_MFBD6J9",
        "colab_type": "code",
        "colab": {}
      },
      "source": [
        "sex = np.unique(titanicc[:,1])\n",
        "sex\n"
      ],
      "execution_count": 0,
      "outputs": []
    },
    {
      "cell_type": "code",
      "metadata": {
        "id": "l3chb6ciD9jd",
        "colab_type": "code",
        "colab": {}
      },
      "source": [
        "sex_value = [sum(titanicc[:,1]==sex[0]),\n",
        "                   sum(titanicc[:,1]==sex[1])  ]\n",
        "sex_value"
      ],
      "execution_count": 0,
      "outputs": []
    },
    {
      "cell_type": "code",
      "metadata": {
        "id": "BvnQTfUeEhWX",
        "colab_type": "code",
        "colab": {}
      },
      "source": [
        "plt.bar(sex,sex_value) "
      ],
      "execution_count": 0,
      "outputs": []
    },
    {
      "cell_type": "markdown",
      "metadata": {
        "id": "uNNrbFepLB_n",
        "colab_type": "text"
      },
      "source": [
        ""
      ]
    },
    {
      "cell_type": "code",
      "metadata": {
        "id": "xVeQLhh2JajY",
        "colab_type": "code",
        "colab": {}
      },
      "source": [
        "sur = np.unique(titanicc[:,-1])\n",
        "sur"
      ],
      "execution_count": 0,
      "outputs": []
    },
    {
      "cell_type": "code",
      "metadata": {
        "id": "z2tzaZLCKMKB",
        "colab_type": "code",
        "colab": {}
      },
      "source": [
        "sur_value = [sum(titanicc[:,-1]==sur[0]),\n",
        "                   sum(titanicc[:,-1]==sur[1])  ]\n",
        "sur_value"
      ],
      "execution_count": 0,
      "outputs": []
    },
    {
      "cell_type": "code",
      "metadata": {
        "id": "nCuA_NuBKkLR",
        "colab_type": "code",
        "colab": {}
      },
      "source": [
        "plt.bar(sur,sur_value) "
      ],
      "execution_count": 0,
      "outputs": []
    },
    {
      "cell_type": "code",
      "metadata": {
        "id": "LrHzGPB3ExM2",
        "colab_type": "code",
        "colab": {}
      },
      "source": [
        "fig, axes = plt.subplots(1,2,figsize=(8,3))\n",
        "axes[0].bar(sex,sex_value)\n",
        "axes[1].bar(sur,sur_value)\n",
        "plt.show()"
      ],
      "execution_count": 0,
      "outputs": []
    },
    {
      "cell_type": "code",
      "metadata": {
        "id": "NL3OGIR4KyUH",
        "colab_type": "code",
        "colab": {}
      },
      "source": [
        ""
      ],
      "execution_count": 0,
      "outputs": []
    },
    {
      "cell_type": "markdown",
      "metadata": {
        "id": "GSmcyDrPkM-Z",
        "colab_type": "text"
      },
      "source": [
        "#ex7"
      ]
    },
    {
      "cell_type": "code",
      "metadata": {
        "id": "HxJ5_qajLLDA",
        "colab_type": "code",
        "colab": {}
      },
      "source": [
        "titanicc = titanicc.astype('float')\n",
        "titanicc.dtype"
      ],
      "execution_count": 0,
      "outputs": []
    },
    {
      "cell_type": "markdown",
      "metadata": {
        "id": "wY6Vlu4CLNdF",
        "colab_type": "text"
      },
      "source": [
        "#String"
      ]
    },
    {
      "cell_type": "code",
      "metadata": {
        "id": "E9V0_MS5L8pt",
        "colab_type": "code",
        "colab": {}
      },
      "source": [
        "titanicc[0,:]"
      ],
      "execution_count": 0,
      "outputs": []
    },
    {
      "cell_type": "code",
      "metadata": {
        "id": "r_OG7G8HLQTg",
        "colab_type": "code",
        "colab": {}
      },
      "source": [
        "titanicc[titanicc == passenger_class[0]]=0\n",
        "titanicc[titanicc == passenger_class[1]]=1\n",
        "titanicc[titanicc == passenger_class[2]]=2\n",
        "titanicc[titanicc == sex[0]]=0\n",
        "titanicc[titanicc == sex[1]]=1\n",
        "titanicc[titanicc == sur[0]]=0\n",
        "titanicc[titanicc == sur[1]]=1\n",
        "titanicc"
      ],
      "execution_count": 0,
      "outputs": []
    },
    {
      "cell_type": "code",
      "metadata": {
        "id": "yZBrjKaPQoSo",
        "colab_type": "code",
        "colab": {}
      },
      "source": [
        "y = titanicc[:,-1]\n",
        "x = np.delete(titanicc,-1,1)\n",
        "x.shape"
      ],
      "execution_count": 0,
      "outputs": []
    },
    {
      "cell_type": "code",
      "metadata": {
        "id": "sz-LkUiWnpC_",
        "colab_type": "code",
        "colab": {}
      },
      "source": [
        "x_norm = (x-np.min(x,0)) / (np.max(x,0) - np.min(x,0))\n",
        "x_norm"
      ],
      "execution_count": 0,
      "outputs": []
    },
    {
      "cell_type": "code",
      "metadata": {
        "id": "2a5EriJEnu39",
        "colab_type": "code",
        "colab": {}
      },
      "source": [
        ""
      ],
      "execution_count": 0,
      "outputs": []
    },
    {
      "cell_type": "markdown",
      "metadata": {
        "id": "CXK-knt6oj7g",
        "colab_type": "text"
      },
      "source": [
        "#ex8"
      ]
    },
    {
      "cell_type": "code",
      "metadata": {
        "id": "G0QQ5PJmolMV",
        "colab_type": "code",
        "colab": {}
      },
      "source": [
        "import numpy as np\n",
        "train_index = np.random.rand(1308) > 0.3\n",
        "test_index = train_index == False\n",
        "sum(test_index)"
      ],
      "execution_count": 0,
      "outputs": []
    },
    {
      "cell_type": "code",
      "metadata": {
        "id": "hIxT58lpq-CP",
        "colab_type": "code",
        "colab": {}
      },
      "source": [
        "y = titanicc[:,-1]\n",
        "x = titanicc[0:5,:]\n",
        "x_train = x[train_index,:]\n",
        "y_train = y[train_index,-1]\n",
        "x_test = x[train_index,:]\n",
        "y_test = x[train_index,-1]\n"
      ],
      "execution_count": 0,
      "outputs": []
    },
    {
      "cell_type": "code",
      "metadata": {
        "id": "Xv8hI_-qsc_B",
        "colab_type": "code",
        "colab": {}
      },
      "source": [
        ""
      ],
      "execution_count": 0,
      "outputs": []
    },
    {
      "cell_type": "markdown",
      "metadata": {
        "id": "z4PgdSdCulSL",
        "colab_type": "text"
      },
      "source": [
        "#pandas"
      ]
    },
    {
      "cell_type": "code",
      "metadata": {
        "id": "TizArQPPumku",
        "colab_type": "code",
        "colab": {}
      },
      "source": [
        "import pandas as pd"
      ],
      "execution_count": 0,
      "outputs": []
    },
    {
      "cell_type": "code",
      "metadata": {
        "id": "2cnkEHSqu85I",
        "colab_type": "code",
        "colab": {}
      },
      "source": [
        "df = pd.read_csv('https://raw.githubusercontent.com/buktaleles25/DW/master/titanic.csv',delimiter=\";\")\n",
        "df"
      ],
      "execution_count": 0,
      "outputs": []
    },
    {
      "cell_type": "code",
      "metadata": {
        "id": "sKYR4s4IvOE-",
        "colab_type": "code",
        "colab": {}
      },
      "source": [
        "df.columns"
      ],
      "execution_count": 0,
      "outputs": []
    },
    {
      "cell_type": "code",
      "metadata": {
        "id": "cqu_xqnOwcYL",
        "colab_type": "code",
        "colab": {}
      },
      "source": [
        "df['Passenger Class']"
      ],
      "execution_count": 0,
      "outputs": []
    },
    {
      "cell_type": "code",
      "metadata": {
        "id": "4DlTbsWgwhIs",
        "colab_type": "code",
        "colab": {}
      },
      "source": [
        "df.iloc[2,0:5]"
      ],
      "execution_count": 0,
      "outputs": []
    },
    {
      "cell_type": "code",
      "metadata": {
        "id": "P9woRPNJwzR8",
        "colab_type": "code",
        "colab": {}
      },
      "source": [
        "df.isnull().any()"
      ],
      "execution_count": 0,
      "outputs": []
    },
    {
      "cell_type": "code",
      "metadata": {
        "id": "q3buaoiJyR1z",
        "colab_type": "code",
        "colab": {}
      },
      "source": [
        "sum(df['Age'].isnull())\n",
        "sum(df['Passenger Fare'].isnull())\n",
        "sum(df['Cabin'].isnull())"
      ],
      "execution_count": 0,
      "outputs": []
    },
    {
      "cell_type": "code",
      "metadata": {
        "id": "IyYBR8JLyk9a",
        "colab_type": "code",
        "colab": {}
      },
      "source": [
        "df.drop('Cabin',1,inplace = True)\n",
        "df.columns"
      ],
      "execution_count": 0,
      "outputs": []
    },
    {
      "cell_type": "code",
      "metadata": {
        "id": "11FU0ryGy1Ma",
        "colab_type": "code",
        "colab": {}
      },
      "source": [
        "df.dropna(1,'any',inplace= True)\n"
      ],
      "execution_count": 0,
      "outputs": []
    },
    {
      "cell_type": "code",
      "metadata": {
        "id": "ETeIdRDRy_Gy",
        "colab_type": "code",
        "colab": {}
      },
      "source": [
        "df.dropna(0,'any',inplace = True)"
      ],
      "execution_count": 0,
      "outputs": []
    },
    {
      "cell_type": "code",
      "metadata": {
        "id": "0H_G63a0zFqT",
        "colab_type": "code",
        "colab": {}
      },
      "source": [
        "df.isnull().any()"
      ],
      "execution_count": 0,
      "outputs": []
    },
    {
      "cell_type": "code",
      "metadata": {
        "id": "wA6ZA6j4zJFz",
        "colab_type": "code",
        "colab": {}
      },
      "source": [
        "p_class , levels =  pd.factorize(df['Passenger Class'])"
      ],
      "execution_count": 0,
      "outputs": []
    },
    {
      "cell_type": "code",
      "metadata": {
        "id": "7f9BGWMK0Tfh",
        "colab_type": "code",
        "colab": {}
      },
      "source": [
        "p_class"
      ],
      "execution_count": 0,
      "outputs": []
    },
    {
      "cell_type": "code",
      "metadata": {
        "id": "0A-ws_Qj0Uyx",
        "colab_type": "code",
        "colab": {}
      },
      "source": [
        "levels"
      ],
      "execution_count": 0,
      "outputs": []
    },
    {
      "cell_type": "code",
      "metadata": {
        "id": "5HPxN-UA0gH4",
        "colab_type": "code",
        "colab": {}
      },
      "source": [
        "df['Passenger Class'] = p_class\n",
        "df['Passenger Class']"
      ],
      "execution_count": 0,
      "outputs": []
    },
    {
      "cell_type": "code",
      "metadata": {
        "id": "q_-1btm81QrA",
        "colab_type": "code",
        "colab": {}
      },
      "source": [
        "df.set_index('Name')"
      ],
      "execution_count": 0,
      "outputs": []
    },
    {
      "cell_type": "code",
      "metadata": {
        "id": "Ix2rsKC81YCQ",
        "colab_type": "code",
        "colab": {}
      },
      "source": [
        "df_clean = df.drop(['Age','Cabin','Lift Boat'],axis=1)\n",
        "df_clean.isnull().sum(axis=0)"
      ],
      "execution_count": 0,
      "outputs": []
    },
    {
      "cell_type": "code",
      "metadata": {
        "id": "kCsb44gw2CNH",
        "colab_type": "code",
        "colab": {}
      },
      "source": [
        "df.isnull().sum(axis=0)"
      ],
      "execution_count": 0,
      "outputs": []
    },
    {
      "cell_type": "code",
      "metadata": {
        "id": "rxFFJWwI2mS3",
        "colab_type": "code",
        "colab": {}
      },
      "source": [
        "df_clean_factorize = df_clean_row\n",
        "data_passenger; data_label = pd.factorize(df_clean_row['Passenger Class'])\n",
        "data_sex; data_label = pd.factorize(df_clean_row['sex'])\n",
        "df_clean_factorize['Passenger Class'] = data_passenger\n",
        "df_clean_factorize['sex']= data_sex\n",
        "df_clean_factorize.head()"
      ],
      "execution_count": 0,
      "outputs": []
    },
    {
      "cell_type": "code",
      "metadata": {
        "id": "NKmlvKaT4kuc",
        "colab_type": "code",
        "colab": {}
      },
      "source": [
        "df_clean_column = df.drop(['Age','Cabin','Life Boat','Name','Ticket Number','Port of Embarkation'],axis=1)\n",
        "df_clean_column.isnull().sum(axis=0)\n"
      ],
      "execution_count": 0,
      "outputs": []
    },
    {
      "cell_type": "code",
      "metadata": {
        "id": "7RqzNEd87iOy",
        "colab_type": "code",
        "colab": {}
      },
      "source": [
        "df_clean_row = df_clean_column.dropna(axis=0)\n",
        "df_clean_row.isnull().sum(axis=0)"
      ],
      "execution_count": 0,
      "outputs": []
    },
    {
      "cell_type": "code",
      "metadata": {
        "id": "K1OQgoVn7qCi",
        "colab_type": "code",
        "colab": {
          "base_uri": "https://localhost:8080/",
          "height": 397
        },
        "outputId": "b6624596-040e-4cc4-f726-b87df425bd0e"
      },
      "source": [
        "df_clean_factorize = df_clean_row\n",
        "data_passenger, data_label = pd.factorize(df_clean_row['Passenger Class'])\n",
        "data_sex, data_label = pd.factorize(df_clean_row['Sex'])\n",
        "df_clean_factorize['Passenger Class'] = data_passenger\n",
        "df_clean_factorize['Sex'] = data_sex\n",
        "df_clean_factorize.head()"
      ],
      "execution_count": 120,
      "outputs": [
        {
          "output_type": "stream",
          "text": [
            "/usr/local/lib/python3.6/dist-packages/ipykernel_launcher.py:4: SettingWithCopyWarning: \n",
            "A value is trying to be set on a copy of a slice from a DataFrame.\n",
            "Try using .loc[row_indexer,col_indexer] = value instead\n",
            "\n",
            "See the caveats in the documentation: http://pandas.pydata.org/pandas-docs/stable/user_guide/indexing.html#returning-a-view-versus-a-copy\n",
            "  after removing the cwd from sys.path.\n",
            "/usr/local/lib/python3.6/dist-packages/ipykernel_launcher.py:5: SettingWithCopyWarning: \n",
            "A value is trying to be set on a copy of a slice from a DataFrame.\n",
            "Try using .loc[row_indexer,col_indexer] = value instead\n",
            "\n",
            "See the caveats in the documentation: http://pandas.pydata.org/pandas-docs/stable/user_guide/indexing.html#returning-a-view-versus-a-copy\n",
            "  \"\"\"\n"
          ],
          "name": "stderr"
        },
        {
          "output_type": "execute_result",
          "data": {
            "text/html": [
              "<div>\n",
              "<style scoped>\n",
              "    .dataframe tbody tr th:only-of-type {\n",
              "        vertical-align: middle;\n",
              "    }\n",
              "\n",
              "    .dataframe tbody tr th {\n",
              "        vertical-align: top;\n",
              "    }\n",
              "\n",
              "    .dataframe thead th {\n",
              "        text-align: right;\n",
              "    }\n",
              "</style>\n",
              "<table border=\"1\" class=\"dataframe\">\n",
              "  <thead>\n",
              "    <tr style=\"text-align: right;\">\n",
              "      <th></th>\n",
              "      <th>Passenger Class</th>\n",
              "      <th>Sex</th>\n",
              "      <th>No of Siblings or Spouses on Board</th>\n",
              "      <th>No of Parents or Children on Board</th>\n",
              "      <th>Passenger Fare</th>\n",
              "      <th>Survived</th>\n",
              "    </tr>\n",
              "  </thead>\n",
              "  <tbody>\n",
              "    <tr>\n",
              "      <th>0</th>\n",
              "      <td>0</td>\n",
              "      <td>0</td>\n",
              "      <td>0</td>\n",
              "      <td>0</td>\n",
              "      <td>211.3375</td>\n",
              "      <td>Yes</td>\n",
              "    </tr>\n",
              "    <tr>\n",
              "      <th>1</th>\n",
              "      <td>0</td>\n",
              "      <td>1</td>\n",
              "      <td>1</td>\n",
              "      <td>2</td>\n",
              "      <td>151.5500</td>\n",
              "      <td>Yes</td>\n",
              "    </tr>\n",
              "    <tr>\n",
              "      <th>2</th>\n",
              "      <td>0</td>\n",
              "      <td>0</td>\n",
              "      <td>1</td>\n",
              "      <td>2</td>\n",
              "      <td>151.5500</td>\n",
              "      <td>No</td>\n",
              "    </tr>\n",
              "    <tr>\n",
              "      <th>3</th>\n",
              "      <td>0</td>\n",
              "      <td>1</td>\n",
              "      <td>1</td>\n",
              "      <td>2</td>\n",
              "      <td>151.5500</td>\n",
              "      <td>No</td>\n",
              "    </tr>\n",
              "    <tr>\n",
              "      <th>4</th>\n",
              "      <td>0</td>\n",
              "      <td>0</td>\n",
              "      <td>1</td>\n",
              "      <td>2</td>\n",
              "      <td>151.5500</td>\n",
              "      <td>No</td>\n",
              "    </tr>\n",
              "  </tbody>\n",
              "</table>\n",
              "</div>"
            ],
            "text/plain": [
              "   Passenger Class  Sex  ...  Passenger Fare  Survived\n",
              "0                0    0  ...        211.3375       Yes\n",
              "1                0    1  ...        151.5500       Yes\n",
              "2                0    0  ...        151.5500        No\n",
              "3                0    1  ...        151.5500        No\n",
              "4                0    0  ...        151.5500        No\n",
              "\n",
              "[5 rows x 6 columns]"
            ]
          },
          "metadata": {
            "tags": []
          },
          "execution_count": 120
        }
      ]
    },
    {
      "cell_type": "code",
      "metadata": {
        "id": "U60-jQRc7tNB",
        "colab_type": "code",
        "colab": {}
      },
      "source": [
        ""
      ],
      "execution_count": 0,
      "outputs": []
    },
    {
      "cell_type": "markdown",
      "metadata": {
        "id": "MRIGbp_OFHco",
        "colab_type": "text"
      },
      "source": [
        "#nomalize"
      ]
    },
    {
      "cell_type": "code",
      "metadata": {
        "id": "G0DWBJD-FiUo",
        "colab_type": "code",
        "colab": {
          "base_uri": "https://localhost:8080/",
          "height": 406
        },
        "outputId": "31a4e38d-00cd-4e8c-a201-f490fcd5a0f6"
      },
      "source": [
        "x =df_clean_factorize.drop(['Survived'],axis=1)\n",
        "y =df_clean_factorize['Survived']\n",
        "x"
      ],
      "execution_count": 122,
      "outputs": [
        {
          "output_type": "execute_result",
          "data": {
            "text/html": [
              "<div>\n",
              "<style scoped>\n",
              "    .dataframe tbody tr th:only-of-type {\n",
              "        vertical-align: middle;\n",
              "    }\n",
              "\n",
              "    .dataframe tbody tr th {\n",
              "        vertical-align: top;\n",
              "    }\n",
              "\n",
              "    .dataframe thead th {\n",
              "        text-align: right;\n",
              "    }\n",
              "</style>\n",
              "<table border=\"1\" class=\"dataframe\">\n",
              "  <thead>\n",
              "    <tr style=\"text-align: right;\">\n",
              "      <th></th>\n",
              "      <th>Passenger Class</th>\n",
              "      <th>Sex</th>\n",
              "      <th>No of Siblings or Spouses on Board</th>\n",
              "      <th>No of Parents or Children on Board</th>\n",
              "      <th>Passenger Fare</th>\n",
              "    </tr>\n",
              "  </thead>\n",
              "  <tbody>\n",
              "    <tr>\n",
              "      <th>0</th>\n",
              "      <td>0</td>\n",
              "      <td>0</td>\n",
              "      <td>0</td>\n",
              "      <td>0</td>\n",
              "      <td>211.3375</td>\n",
              "    </tr>\n",
              "    <tr>\n",
              "      <th>1</th>\n",
              "      <td>0</td>\n",
              "      <td>1</td>\n",
              "      <td>1</td>\n",
              "      <td>2</td>\n",
              "      <td>151.5500</td>\n",
              "    </tr>\n",
              "    <tr>\n",
              "      <th>2</th>\n",
              "      <td>0</td>\n",
              "      <td>0</td>\n",
              "      <td>1</td>\n",
              "      <td>2</td>\n",
              "      <td>151.5500</td>\n",
              "    </tr>\n",
              "    <tr>\n",
              "      <th>3</th>\n",
              "      <td>0</td>\n",
              "      <td>1</td>\n",
              "      <td>1</td>\n",
              "      <td>2</td>\n",
              "      <td>151.5500</td>\n",
              "    </tr>\n",
              "    <tr>\n",
              "      <th>4</th>\n",
              "      <td>0</td>\n",
              "      <td>0</td>\n",
              "      <td>1</td>\n",
              "      <td>2</td>\n",
              "      <td>151.5500</td>\n",
              "    </tr>\n",
              "    <tr>\n",
              "      <th>...</th>\n",
              "      <td>...</td>\n",
              "      <td>...</td>\n",
              "      <td>...</td>\n",
              "      <td>...</td>\n",
              "      <td>...</td>\n",
              "    </tr>\n",
              "    <tr>\n",
              "      <th>1304</th>\n",
              "      <td>2</td>\n",
              "      <td>0</td>\n",
              "      <td>1</td>\n",
              "      <td>0</td>\n",
              "      <td>14.4542</td>\n",
              "    </tr>\n",
              "    <tr>\n",
              "      <th>1305</th>\n",
              "      <td>2</td>\n",
              "      <td>0</td>\n",
              "      <td>1</td>\n",
              "      <td>0</td>\n",
              "      <td>14.4542</td>\n",
              "    </tr>\n",
              "    <tr>\n",
              "      <th>1306</th>\n",
              "      <td>2</td>\n",
              "      <td>1</td>\n",
              "      <td>0</td>\n",
              "      <td>0</td>\n",
              "      <td>7.2250</td>\n",
              "    </tr>\n",
              "    <tr>\n",
              "      <th>1307</th>\n",
              "      <td>2</td>\n",
              "      <td>1</td>\n",
              "      <td>0</td>\n",
              "      <td>0</td>\n",
              "      <td>7.2250</td>\n",
              "    </tr>\n",
              "    <tr>\n",
              "      <th>1308</th>\n",
              "      <td>2</td>\n",
              "      <td>1</td>\n",
              "      <td>0</td>\n",
              "      <td>0</td>\n",
              "      <td>7.8750</td>\n",
              "    </tr>\n",
              "  </tbody>\n",
              "</table>\n",
              "<p>1308 rows × 5 columns</p>\n",
              "</div>"
            ],
            "text/plain": [
              "      Passenger Class  Sex  ...  No of Parents or Children on Board  Passenger Fare\n",
              "0                   0    0  ...                                   0        211.3375\n",
              "1                   0    1  ...                                   2        151.5500\n",
              "2                   0    0  ...                                   2        151.5500\n",
              "3                   0    1  ...                                   2        151.5500\n",
              "4                   0    0  ...                                   2        151.5500\n",
              "...               ...  ...  ...                                 ...             ...\n",
              "1304                2    0  ...                                   0         14.4542\n",
              "1305                2    0  ...                                   0         14.4542\n",
              "1306                2    1  ...                                   0          7.2250\n",
              "1307                2    1  ...                                   0          7.2250\n",
              "1308                2    1  ...                                   0          7.8750\n",
              "\n",
              "[1308 rows x 5 columns]"
            ]
          },
          "metadata": {
            "tags": []
          },
          "execution_count": 122
        }
      ]
    },
    {
      "cell_type": "code",
      "metadata": {
        "id": "mmlt6069FJs_",
        "colab_type": "code",
        "colab": {
          "base_uri": "https://localhost:8080/",
          "height": 33
        },
        "outputId": "94a7e754-f2d0-49ac-e6fa-59efb18e8ece"
      },
      "source": [
        "from sklearn.model_selection import train_test_split\n",
        "x_train, x_test, y_train, y_test = train_test_split(x, y, test_size=0.20, random_state=0)\n",
        "x_train.shape"
      ],
      "execution_count": 123,
      "outputs": [
        {
          "output_type": "execute_result",
          "data": {
            "text/plain": [
              "(1046, 5)"
            ]
          },
          "metadata": {
            "tags": []
          },
          "execution_count": 123
        }
      ]
    },
    {
      "cell_type": "code",
      "metadata": {
        "id": "gBDmCK7rHldl",
        "colab_type": "code",
        "colab": {
          "base_uri": "https://localhost:8080/",
          "height": 133
        },
        "outputId": "88e4c3ee-c97f-4210-ee2e-aa2067036dce"
      },
      "source": [
        "from sklearn.preprocessing import MinMaxScaler\n",
        "scaler = MinMaxScaler()\n",
        "scaler.fit(x_train)\n",
        "\n",
        "x_train_nore = scaler.transform(x_train)\n",
        "x_test_nore = scaler.transform(x_test)\n",
        "x_test_nore"
      ],
      "execution_count": 126,
      "outputs": [
        {
          "output_type": "execute_result",
          "data": {
            "text/plain": [
              "array([[1.        , 0.        , 0.        , 0.        , 0.01533038],\n",
              "       [0.5       , 1.        , 0.        , 0.        , 0.05074862],\n",
              "       [0.5       , 1.        , 0.        , 0.        , 0.        ],\n",
              "       ...,\n",
              "       [1.        , 1.        , 0.        , 0.        , 0.01512699],\n",
              "       [0.5       , 0.        , 0.        , 0.        , 0.02049464],\n",
              "       [1.        , 1.        , 0.        , 0.        , 0.01700567]])"
            ]
          },
          "metadata": {
            "tags": []
          },
          "execution_count": 126
        }
      ]
    },
    {
      "cell_type": "code",
      "metadata": {
        "id": "WP465t4QHGcV",
        "colab_type": "code",
        "colab": {
          "base_uri": "https://localhost:8080/",
          "height": 116
        },
        "outputId": "966dbdbd-0167-4133-bdff-fa2320049f9b"
      },
      "source": [
        "from sklearn.tree import DecisionTreeClassifier\n",
        "model = DecisionTreeClassifier(random_state=0)\n",
        "model.fit(x_train_nore,y_train)"
      ],
      "execution_count": 131,
      "outputs": [
        {
          "output_type": "execute_result",
          "data": {
            "text/plain": [
              "DecisionTreeClassifier(class_weight=None, criterion='gini', max_depth=None,\n",
              "                       max_features=None, max_leaf_nodes=None,\n",
              "                       min_impurity_decrease=0.0, min_impurity_split=None,\n",
              "                       min_samples_leaf=1, min_samples_split=2,\n",
              "                       min_weight_fraction_leaf=0.0, presort=False,\n",
              "                       random_state=0, splitter='best')"
            ]
          },
          "metadata": {
            "tags": []
          },
          "execution_count": 131
        }
      ]
    },
    {
      "cell_type": "code",
      "metadata": {
        "id": "JNHRdMTeFpqP",
        "colab_type": "code",
        "colab": {
          "base_uri": "https://localhost:8080/",
          "height": 33
        },
        "outputId": "943f4bdc-b7b6-4f34-b89c-e7f7c6fdf71c"
      },
      "source": [
        "y_predict = model.predict(x_test_nore)\n",
        "sum(y_predict == y_test) /len (y_test)"
      ],
      "execution_count": 134,
      "outputs": [
        {
          "output_type": "execute_result",
          "data": {
            "text/plain": [
              "0.7938931297709924"
            ]
          },
          "metadata": {
            "tags": []
          },
          "execution_count": 134
        }
      ]
    },
    {
      "cell_type": "code",
      "metadata": {
        "id": "lkFHUnRfIM3F",
        "colab_type": "code",
        "colab": {}
      },
      "source": [
        ""
      ],
      "execution_count": 0,
      "outputs": []
    }
  ]
}