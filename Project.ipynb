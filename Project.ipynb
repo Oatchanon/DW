{
  "nbformat": 4,
  "nbformat_minor": 0,
  "metadata": {
    "colab": {
      "name": "Untitled7.ipynb",
      "provenance": [],
      "include_colab_link": true
    },
    "kernelspec": {
      "name": "python3",
      "display_name": "Python 3"
    }
  },
  "cells": [
    {
      "cell_type": "markdown",
      "metadata": {
        "id": "view-in-github",
        "colab_type": "text"
      },
      "source": [
        "<a href=\"https://colab.research.google.com/github/Oatchanon/DW/blob/master/Project.ipynb\" target=\"_parent\"><img src=\"https://colab.research.google.com/assets/colab-badge.svg\" alt=\"Open In Colab\"/></a>"
      ]
    },
    {
      "cell_type": "code",
      "metadata": {
        "id": "lAeXwiZobbR8",
        "colab_type": "code",
        "colab": {}
      },
      "source": [
        "import pandas as pd"
      ],
      "execution_count": 0,
      "outputs": []
    },
    {
      "cell_type": "code",
      "metadata": {
        "id": "s-OeqPEvaD0p",
        "colab_type": "code",
        "colab": {}
      },
      "source": [
        "df_train =pd.read_csv('https://raw.githubusercontent.com/plenoi/CMU_DataScience/master/DIPEP.csv' ,header=None)\n",
        "df_train.head()"
      ],
      "execution_count": 0,
      "outputs": []
    },
    {
      "cell_type": "code",
      "metadata": {
        "id": "FcX9qkPnbh8M",
        "colab_type": "code",
        "colab": {}
      },
      "source": [
        "df_train.shape"
      ],
      "execution_count": 0,
      "outputs": []
    },
    {
      "cell_type": "code",
      "metadata": {
        "id": "yxVa-oBtblTE",
        "colab_type": "code",
        "colab": {}
      },
      "source": [
        "df_train.dtypes"
      ],
      "execution_count": 0,
      "outputs": []
    },
    {
      "cell_type": "code",
      "metadata": {
        "id": "vUTqu1Uwbr-w",
        "colab_type": "code",
        "colab": {}
      },
      "source": [
        "df_train.isnull().sum(axis=0)"
      ],
      "execution_count": 0,
      "outputs": []
    },
    {
      "cell_type": "code",
      "metadata": {
        "id": "Be85HR1ycNXc",
        "colab_type": "code",
        "colab": {}
      },
      "source": [
        "y=df_train.iloc[:,0]\n",
        "X=df_train.iloc[:,1:401]"
      ],
      "execution_count": 0,
      "outputs": []
    },
    {
      "cell_type": "code",
      "metadata": {
        "id": "e9fQpHQ1cgb2",
        "colab_type": "code",
        "colab": {}
      },
      "source": [
        "X.shape"
      ],
      "execution_count": 0,
      "outputs": []
    },
    {
      "cell_type": "code",
      "metadata": {
        "id": "EDJI7_Vvchep",
        "colab_type": "code",
        "colab": {}
      },
      "source": [
        "y.shape"
      ],
      "execution_count": 0,
      "outputs": []
    },
    {
      "cell_type": "code",
      "metadata": {
        "id": "EydOW77kclvB",
        "colab_type": "code",
        "colab": {}
      },
      "source": [
        ""
      ],
      "execution_count": 0,
      "outputs": []
    },
    {
      "cell_type": "code",
      "metadata": {
        "id": "dVDhqkc8c8pv",
        "colab_type": "code",
        "colab": {}
      },
      "source": [
        ""
      ],
      "execution_count": 0,
      "outputs": []
    },
    {
      "cell_type": "code",
      "metadata": {
        "id": "5x5bWuwCcrga",
        "colab_type": "code",
        "colab": {}
      },
      "source": [
        ""
      ],
      "execution_count": 0,
      "outputs": []
    },
    {
      "cell_type": "code",
      "metadata": {
        "id": "0WmBT-PJdAqG",
        "colab_type": "code",
        "colab": {}
      },
      "source": [
        "x_val_norm.max(axis=0)"
      ],
      "execution_count": 0,
      "outputs": []
    },
    {
      "cell_type": "code",
      "metadata": {
        "id": "lfhMf_fsdJOr",
        "colab_type": "code",
        "colab": {}
      },
      "source": [
        "y_train"
      ],
      "execution_count": 0,
      "outputs": []
    },
    {
      "cell_type": "code",
      "metadata": {
        "id": "h-pAxZFmdKQb",
        "colab_type": "code",
        "colab": {}
      },
      "source": [
        "y_val"
      ],
      "execution_count": 0,
      "outputs": []
    },
    {
      "cell_type": "code",
      "metadata": {
        "id": "fTTyNp0eiieQ",
        "colab_type": "code",
        "colab": {}
      },
      "source": [
        "from sklearn.preprocessing import MinMaxScaler\n",
        "scl =MinMaxScaler()\n",
        "scl.fit(X_train)\n",
        "x_train_norm = scl.transform(X_train)\n",
        "x_val_norm = scl.transform(X_val)"
      ],
      "execution_count": 0,
      "outputs": []
    },
    {
      "cell_type": "code",
      "metadata": {
        "id": "OyPRDFoligxS",
        "colab_type": "code",
        "colab": {}
      },
      "source": [
        "from sklearn.model_selection import train_test_split\n",
        "X_train, X_val, y_train, y_val = train_test_split(X, y, test_size=0.25, random_state=0)"
      ],
      "execution_count": 0,
      "outputs": []
    },
    {
      "cell_type": "code",
      "metadata": {
        "id": "7lsnzMrBdMaV",
        "colab_type": "code",
        "colab": {}
      },
      "source": [
        "from xgboost import XGBClassifier\n",
        "from sklearn.model_selection import cross_val_score\n",
        "clfX = XGBClassifiermodel = XGBClassifier(silent=False, \n",
        "                      n_estimators=1008, \n",
        "                      reg_alpha = 0.38,\n",
        "                      max_depth=3, \n",
        "                      gamma=0.88)"
      ],
      "execution_count": 0,
      "outputs": []
    },
    {
      "cell_type": "code",
      "metadata": {
        "id": "bbAyGOlEdPy7",
        "colab_type": "code",
        "colab": {}
      },
      "source": [
        "accuracy= cross_val_score(clfX,X_train,y_train,cv=5)\n",
        "accuracy.mean()"
      ],
      "execution_count": 0,
      "outputs": []
    },
    {
      "cell_type": "code",
      "metadata": {
        "id": "og_ZUBE6hViW",
        "colab_type": "code",
        "colab": {}
      },
      "source": [
        "clfX.fit(x_train_norm,y_train)"
      ],
      "execution_count": 0,
      "outputs": []
    },
    {
      "cell_type": "code",
      "metadata": {
        "id": "zdMF7ebHdw2J",
        "colab_type": "code",
        "colab": {}
      },
      "source": [
        "y_predict =clfX.predict(x_val_norm)\n",
        "sum(y_predict == y_val)/len(y_val)"
      ],
      "execution_count": 0,
      "outputs": []
    }
  ]
}